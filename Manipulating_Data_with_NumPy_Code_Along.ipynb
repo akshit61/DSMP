{
  "nbformat": 4,
  "nbformat_minor": 0,
  "metadata": {
    "kernelspec": {
      "display_name": "Python 3",
      "language": "python",
      "name": "python3"
    },
    "language_info": {
      "codemirror_mode": {
        "name": "ipython",
        "version": 3
      },
      "file_extension": ".py",
      "mimetype": "text/x-python",
      "name": "python",
      "nbconvert_exporter": "python",
      "pygments_lexer": "ipython3",
      "version": "3.6.7"
    },
    "colab": {
      "name": "Manipulating Data with NumPy Code Along.ipynb",
      "version": "0.3.2",
      "provenance": [],
      "collapsed_sections": [],
      "toc_visible": true,
      "include_colab_link": true
    }
  },
  "cells": [
    {
      "cell_type": "markdown",
      "metadata": {
        "id": "view-in-github",
        "colab_type": "text"
      },
      "source": [
        "<a href=\"https://colab.research.google.com/github/akshit61/DSMP/blob/master/Manipulating_Data_with_NumPy_Code_Along.ipynb\" target=\"_parent\"><img src=\"https://colab.research.google.com/assets/colab-badge.svg\" alt=\"Open In Colab\"/></a>"
      ]
    },
    {
      "cell_type": "markdown",
      "metadata": {
        "id": "q_x0h0IsZbcD",
        "colab_type": "text"
      },
      "source": [
        "# IPL Dataset Analysis\n",
        "\n",
        "## Problem Statement\n",
        "We want to know as to what happens during an IPL match which raises several questions in our mind with our limited knowledge about the game called cricket on which it is based. This analysis is done to know as which factors led one of the team to win and how does it matter."
      ]
    },
    {
      "cell_type": "markdown",
      "metadata": {
        "id": "j44_VDKkZbcG",
        "colab_type": "text"
      },
      "source": [
        "## About the Dataset :\n",
        "The Indian Premier League (IPL) is a professional T20 cricket league in India contested during April-May of every year by teams representing Indian cities. It is the most-attended cricket league in the world and ranks sixth among all the sports leagues. It has teams with players from around the world and is very competitive and entertaining with a lot of close matches between teams.\n",
        "\n",
        "The IPL and other cricket related datasets are available at [cricsheet.org](https://cricsheet.org/%c2%a0(data). Feel free to visit the website and explore the data by yourself as exploring new sources of data is one of the interesting activities a data scientist gets to do.\n",
        "\n",
        "## About the dataset:\n",
        "Snapshot of the data you will be working on:<br>\n",
        "<br>\n",
        "The dataset 1452 data points and 23 features<br>\n",
        "\n",
        "|Features|Description|\n",
        "|-----|-----|\n",
        "|match_code|Code pertaining to individual match|\n",
        "|date|Date of the match played|\n",
        "|city|Location where the match was played|\n",
        "|team1|team1|\n",
        "|team2|team2|\n",
        "|toss_winner|Who won the toss out of two teams|\n",
        "|toss_decision|toss decision taken by toss winner|\n",
        "|winner|Winner of that match between two teams|\n",
        "|win_type|How did the team won(by wickets or runs etc.)|\n",
        "|win_margin|difference with which the team won| \n",
        "|inning|inning type(1st or 2nd)|\n",
        "|delivery|ball delivery|\n",
        "|batting_team|current team on batting|\n",
        "|batsman|current batsman on strike|\n",
        "|non_striker|batsman on non-strike|\n",
        "|bowler|Current bowler|\n",
        "|runs|runs scored|\n",
        "|extras|extra run scored|\n",
        "|total|total run scored on that delivery including runs and extras|\n",
        "|extras_type|extra run scored by wides or no ball or legby|\n",
        "|player_out|player that got out|\n",
        "|wicket_kind|How did the player got out|\n",
        "|wicket_fielders|Fielder who caught out the player by catch|\n"
      ]
    },
    {
      "cell_type": "markdown",
      "metadata": {
        "id": "RpdizUjNZbcH",
        "colab_type": "text"
      },
      "source": [
        "### Analysing data using numpy module"
      ]
    },
    {
      "cell_type": "markdown",
      "metadata": {
        "id": "vKqNNjNIZbcJ",
        "colab_type": "text"
      },
      "source": [
        "### Read the data using numpy module."
      ]
    },
    {
      "cell_type": "code",
      "metadata": {
        "id": "ybZG-DqKZbcK",
        "colab_type": "code",
        "colab": {}
      },
      "source": [
        "import numpy as np\n",
        "# Not every data format will be in csv there are other file formats also.\n",
        "# This exercise will help you deal with other file formats and how toa read it.\n",
        "path = '/content/ipl_matches_small.csv'\n",
        "data_ipl = np.genfromtxt(path, delimiter=',', skip_header=1, dtype=str)\n",
        "\n"
      ],
      "execution_count": 0,
      "outputs": []
    },
    {
      "cell_type": "code",
      "metadata": {
        "id": "37fkpS18ZbcQ",
        "colab_type": "code",
        "colab": {
          "base_uri": "https://localhost:8080/",
          "height": 68
        },
        "outputId": "cedab580-87dc-468f-ec78-9cf651b0ac50"
      },
      "source": [
        "data_ipl[:,3]"
      ],
      "execution_count": 2,
      "outputs": [
        {
          "output_type": "execute_result",
          "data": {
            "text/plain": [
              "array(['Kolkata Knight Riders', 'Kolkata Knight Riders',\n",
              "       'Kolkata Knight Riders', ..., 'Rajasthan Royals',\n",
              "       'Rajasthan Royals', 'Rajasthan Royals'], dtype='<U21')"
            ]
          },
          "metadata": {
            "tags": []
          },
          "execution_count": 2
        }
      ]
    },
    {
      "cell_type": "markdown",
      "metadata": {
        "id": "3hS_yloSZbcX",
        "colab_type": "text"
      },
      "source": [
        "### Calculate the unique no. of matches in the provided dataset ?"
      ]
    },
    {
      "cell_type": "code",
      "metadata": {
        "id": "e05g4k1aZbcY",
        "colab_type": "code",
        "colab": {
          "base_uri": "https://localhost:8080/",
          "height": 34
        },
        "outputId": "ff58ddca-93f6-44db-a653-facf2a1911fa"
      },
      "source": [
        "# How many matches were held in total we need to know so that we can analyze further statistics keeping that in mind.\n",
        "match_codes = np.unique(data_ipl[:,0])\n",
        "print(len(match_codes))"
      ],
      "execution_count": 4,
      "outputs": [
        {
          "output_type": "stream",
          "text": [
            "6\n"
          ],
          "name": "stdout"
        }
      ]
    },
    {
      "cell_type": "markdown",
      "metadata": {
        "id": "vE11EjcTZbcb",
        "colab_type": "text"
      },
      "source": [
        "### Find the set of all unique teams that played in the matches in the data set."
      ]
    },
    {
      "cell_type": "code",
      "metadata": {
        "id": "M3mIMLAZZbcd",
        "colab_type": "code",
        "colab": {
          "base_uri": "https://localhost:8080/",
          "height": 68
        },
        "outputId": "e7ee0fa9-82f6-49f7-cec7-b928f307cd48"
      },
      "source": [
        "# this exercise deals with you getting to know that which are all those six teams that played in the tournament.\n",
        "team_1 = np.unique(data_ipl[:,3:5])\n",
        "#team_2 = np.unique(data_ipl[:,4])\n",
        "#team_set = list(zip(team_1,team_2))\n",
        "print(team_1)"
      ],
      "execution_count": 9,
      "outputs": [
        {
          "output_type": "stream",
          "text": [
            "['Chennai Super Kings' 'Deccan Chargers' 'Kings XI Punjab'\n",
            " 'Kolkata Knight Riders' 'Mumbai Indians' 'Pune Warriors'\n",
            " 'Rajasthan Royals']\n"
          ],
          "name": "stdout"
        }
      ]
    },
    {
      "cell_type": "code",
      "metadata": {
        "id": "fCV8nXVdZbci",
        "colab_type": "code",
        "colab": {}
      },
      "source": [
        ""
      ],
      "execution_count": 0,
      "outputs": []
    },
    {
      "cell_type": "markdown",
      "metadata": {
        "id": "fkvPwLOuZbcl",
        "colab_type": "text"
      },
      "source": [
        "### Find sum of all extras in all deliveries in all matches in the dataset"
      ]
    },
    {
      "cell_type": "code",
      "metadata": {
        "id": "BtanpZk8Zbcm",
        "colab_type": "code",
        "colab": {
          "base_uri": "https://localhost:8080/",
          "height": 34
        },
        "outputId": "7e0886bc-a617-47e0-badf-8eca00703d15"
      },
      "source": [
        "# An exercise to make you familiar with indexing and slicing up within data.\n",
        "extras = sum(data_ipl[:,17].astype(int))\n",
        "print(extras)"
      ],
      "execution_count": 15,
      "outputs": [
        {
          "output_type": "stream",
          "text": [
            "88\n"
          ],
          "name": "stdout"
        }
      ]
    },
    {
      "cell_type": "markdown",
      "metadata": {
        "id": "H0CE1WwNZbcp",
        "colab_type": "text"
      },
      "source": [
        "### Get the array of all delivery numbers when a given player got out. Also mention the wicket type."
      ]
    },
    {
      "cell_type": "code",
      "metadata": {
        "id": "vz5MpijhZbcq",
        "colab_type": "code",
        "colab": {
          "base_uri": "https://localhost:8080/",
          "height": 51
        },
        "outputId": "ca709e65-40cd-4be5-b5f5-50bf61e0c005"
      },
      "source": [
        "player = input('Enter player Name : ')\n",
        "delivery = data_ipl[data_ipl[:,20] == player]\n",
        "print(delivery[0][11])"
      ],
      "execution_count": 26,
      "outputs": [
        {
          "output_type": "stream",
          "text": [
            "Enter player Name : JA Morkel\n",
            "17.5\n"
          ],
          "name": "stdout"
        }
      ]
    },
    {
      "cell_type": "code",
      "metadata": {
        "id": "-LMdXi5TZbct",
        "colab_type": "code",
        "colab": {
          "base_uri": "https://localhost:8080/",
          "height": 34
        },
        "outputId": "a19b3a48-86dc-4fd5-be66-45097e6f899f"
      },
      "source": [
        "wicket_type = delivery[0][21]\n",
        "print(wicket_type)"
      ],
      "execution_count": 28,
      "outputs": [
        {
          "output_type": "stream",
          "text": [
            "caught\n"
          ],
          "name": "stdout"
        }
      ]
    },
    {
      "cell_type": "markdown",
      "metadata": {
        "id": "GjiWHyUtZbc0",
        "colab_type": "text"
      },
      "source": [
        "### How many matches the team `Mumbai Indians` has won the toss?"
      ]
    },
    {
      "cell_type": "code",
      "metadata": {
        "id": "y1XGAZIdZbc2",
        "colab_type": "code",
        "colab": {
          "base_uri": "https://localhost:8080/",
          "height": 34
        },
        "outputId": "69c41f56-9a53-4558-f535-6824fafbfed2"
      },
      "source": [
        "# this exercise will help you get the statistics on one particular team\n",
        "no_of_toss_wins = np.unique(data_ipl[data_ipl[:,5] == 'Mumbai Indians'][:,0])\n",
        "print(len(no_of_toss_wins))"
      ],
      "execution_count": 37,
      "outputs": [
        {
          "output_type": "stream",
          "text": [
            "2\n"
          ],
          "name": "stdout"
        }
      ]
    },
    {
      "cell_type": "markdown",
      "metadata": {
        "id": "yjy8m1CaZbc4",
        "colab_type": "text"
      },
      "source": [
        "### Create a filter that filters only those records where the batsman scored 6 runs. Also who has scored the maximum no. of sixes overall ?"
      ]
    },
    {
      "cell_type": "code",
      "metadata": {
        "id": "GlT09tY1Zbc6",
        "colab_type": "code",
        "colab": {
          "base_uri": "https://localhost:8080/",
          "height": 153
        },
        "outputId": "4071fb53-3465-4a2f-fcb4-e4f6bbecb7e0"
      },
      "source": [
        "# An exercise to know who is the most aggresive player or maybe the scoring player \n",
        "records_for_sixes = data_ipl[data_ipl[:,16] == '6']\n",
        "print(records_for_sixes)\n",
        "print(np.shape(records_for_sixes))"
      ],
      "execution_count": 68,
      "outputs": [
        {
          "output_type": "stream",
          "text": [
            "[['392203' '2009-05-01' 'East London' ... '' '' '']\n",
            " ['392203' '2009-05-01' 'East London' ... '' '' '']\n",
            " ['392203' '2009-05-01' 'East London' ... '' '' '']\n",
            " ...\n",
            " ['335987' '2008-04-21' 'Jaipur' ... '' '' '']\n",
            " ['335987' '2008-04-21' 'Jaipur' ... '' '' '']\n",
            " ['335987' '2008-04-21' 'Jaipur' ... '' '' '']]\n",
            "(59, 23)\n"
          ],
          "name": "stdout"
        }
      ]
    },
    {
      "cell_type": "code",
      "metadata": {
        "id": "52EvOqzNZbc8",
        "colab_type": "code",
        "colab": {
          "base_uri": "https://localhost:8080/",
          "height": 51
        },
        "outputId": "50eed24a-cc14-4ac2-99a9-c6518fb8869f"
      },
      "source": [
        "batsmen,count = np.unique(records_for_sixes[:,13],return_counts= True)\n",
        "print(count)\n",
        "max_six = count.max()\n",
        "#print(batsmen)\n",
        "\n",
        "list_of_sixes  = list(zip(count,batsmen))\n",
        "x= [list_of_sixes[i][1] for i in range(len(list_of_sixes)) if list_of_sixes[i][0] == max_six]\n",
        "print(x)"
      ],
      "execution_count": 78,
      "outputs": [
        {
          "output_type": "stream",
          "text": [
            "[1 3 1 4 2 2 1 1 4 2 1 1 1 1 1 1 2 1 1 1 1 1 1 6 6 4 2 2 1 3]\n",
            "['SR Tendulkar', 'SR Watson']\n"
          ],
          "name": "stdout"
        }
      ]
    }
  ]
}